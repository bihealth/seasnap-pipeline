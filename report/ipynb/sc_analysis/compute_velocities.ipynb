{
   "cell_type": "markdown",
   "metadata": {},
   "source": [
    "---"
   ]
},
{
 "cell_type": "markdown",
 "metadata": {},
 "source": [
  "## Run scvelo on .loom file precomputed with velocyto"
 ]
},
{
 "cell_type": "code",
 "execution_count": 17,
 "metadata": {},
 "source": [
  "# scvelo settings\n",
  "scv.logging.print_version()\n",
  "scv.settings.verbosity = 3  # show errors(0), warnings(1), info(2), hints(3)\n",
  "scv.settings.set_figure_params('scvelo')  # for beautified visualization"
 ]
},
{
 "cell_type": "code",
 "execution_count": 18,
 "metadata": {},
 "source": [
  "# load loom file and merge\n",
  "ldata = scv.read(\"{{velocyto_run-loom}}\", cache=True)\n",
  "ad = scv.utils.merge(ad, ldata)\n",
  "\n",
  "# show proportions of spliced/unspliced abundances\n",
  "scv.utils.show_proportions(ad)\n",
  "ad"
 ]
},
{
 "cell_type": "code",
 "execution_count": 19,
 "metadata": {},
 "source": [
  "adata.var_names_make_unique()\n",
  "\n",
  "# basic preprocessing\n",
  "scv.pp.filter_and_normalize(ad, min_shared_counts=30, n_top_genes=2000)\n",
  "scv.pp.moments(ad, n_pcs=30, n_neighbors=30)"
 ]
},
{
 "cell_type": "code",
 "execution_count": 20,
 "metadata": {},
 "source": [
  "# compute velocities and graph\n",
  "scv.tl.velocity(ad, mode='stochastic')\n",
  "scv.tl.velocity_graph(ad)"
 ]
},
{
 "cell_type": "markdown",
 "metadata": {},
 "source": [
  "### visualize velocities"
 ]
},
{
 "cell_type": "code",
 "execution_count": 26,
 "metadata": {},
 "source": [
  "scv.pl.velocity_embedding(ad, basis='umap', arrow_length=3.0, arrow_size=1.2, dpi=150)\n",
  "scv.pl.velocity_embedding_grid(ad, color=\"louvain\", layer=[\"velocity\", \"spliced\"], arrow_size=1.5)\n",
  "scv.pl.velocity_embedding_stream(ad, basis=\"umap\", color=\"louvain\")"
 ]
},
{
 "cell_type": "markdown",
 "metadata": {},
 "source": [
  "### rank velocity genes"
 ]
},
{
 "cell_type": "code",
 "execution_count": 27,
 "metadata": {},
 "source": [
  "scv.tl.rank_velocity_genes(ad, match_with='clusters', resolution=.4)\n",
  "\n",
  "pd.DataFrame(ad.uns['rank_velocity_genes']['names']).head()"
 ]
},
{
 "cell_type": "markdown",
 "metadata": {},
 "source": [
  "### examine velocities"
 ]
},
{
 "cell_type": "code",
 "execution_count": 34,
 "metadata": {},
 "source": [
  "scv.pl.velocity(ad, var_names=[\"<select genes>\"], colorbar=True, ncols=2)\n",
  "scv.pl.velocity_graph(ad)"
 ]
},