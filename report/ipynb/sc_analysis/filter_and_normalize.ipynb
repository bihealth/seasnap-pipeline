{
   "cell_type": "markdown",
   "metadata": {},
   "source": [
    "---"
   ]
},
{
 "cell_type": "markdown",
 "metadata": {},
 "source": [
  "## Filtering and normalization"
 ]
},
{
 "cell_type": "code",
 "execution_count": 5,
 "metadata": {},
 "outputs": [],
 "source": [
  "ad.var['mito']=ad.var.index.str.match('^mt-')\n",
  "ad.var['ribo']=ad.var.index.str.match(\"^Rp[ls][0-9a-z]*$\")\n",
  "ad.obs=ad.obs.join(sc.pp.calculate_qc_metrics(ad,percent_top=(),qc_vars=('mito','ribo'))[0])"
 ]
},
{
 "cell_type": "markdown",
 "metadata": {},
 "source": [
  "### QC plots\n",
  "Standard QC plots to see which cells express how many genes and UMIs, and what their mitochondrial or ribosomal gene content is."
 ]
},
{
 "cell_type": "code",
 "execution_count": 6,
 "metadata": {},
 "source": [
  "sc.pl.scatter(ad,x='total_counts',y='n_genes_by_counts')\n",
  "sc.pl.scatter(ad,x='total_counts',y='pct_counts_mito')\n",
  "sc.pl.scatter(ad,x='total_counts',y='pct_counts_ribo')"
 ]
},
{
 "cell_type": "markdown",
 "metadata": {},
 "source": [
  "### filtering and normalization\n",
  "Cells with #UMIs or mitochondrial content above a threshold are removed."
 ]
},
{
 "cell_type": "code",
 "execution_count": 7,
 "metadata": {},
 "source": [
  "ad=ad[ad.obs['total_counts'] < 25000]\n",
  "ad=ad[ad.obs['pct_counts_mito'] < 10]\n",
  "sc.pp.filter_genes(ad, min_counts=1)\n",
  "sc.pp.normalize_per_cell(ad, key_n_counts='total_counts')\n",
  "sc.pp.log1p(ad) \n",
  "sc.pp.highly_variable_genes(ad, n_top_genes=2000, inplace=True)"
 ]
},