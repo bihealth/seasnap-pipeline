{
   "cell_type": "markdown",
   "metadata": {},
   "source": [
    "---"
   ]
},
{
 "cell_type": "markdown",
 "metadata": {},
 "source": [
  "## Finding marker genes"
 ]
},
{
   "cell_type": "code",
   "execution_count": 11,
   "metadata": {},
   "outputs": [],
   "source": [
    "sc.tl.rank_genes_groups(ad,groupby='louvain')"
   ]
},
{
 "cell_type": "code",
 "execution_count": 12,
 "metadata": {},
 "source": [
  "marker_genes = pd.DataFrame(ad.uns['rank_genes_groups']['names']).head(3).unstack().unique()\n",
  "ax = sc.pl.dotplot(ad, marker_genes, groupby='louvain')"
 ]
},
{
 "cell_type": "code",
 "execution_count": 13,
 "metadata": {},
 "source": [
  "markers = pd.DataFrame(\n",
  "    dict(\n",
  "        (k, pd.DataFrame(ad.uns[\"rank_genes_groups\"][k]).stack().astype(t))\n",
  "        \n",
  "        for k, t in [\n",
  "            (\"scores\", float),\n",
  "            (\"names\", str),\n",
  "            (\"logfoldchanges\", float),\n",
  "            (\"pvals_adj\", float),\n",
  "        ]\n",
  "    )\n",
  ")\n",
  "markers.columns = [\"score\", \"gene\", \"LFC\", \"padj\"]\n",
  "markers[\"cluster\"] = markers.index.get_level_values(1)\n",
  "markers = (\n",
  "    markers[markers[\"gene\"].isin(ad.var_names)]\n",
  "    .sort_values([\"cluster\", \"padj\"])\n",
  "    .groupby(\"cluster\")\n",
  "    .head(10)\n",
  ")\n",
  "for col in markers.columns:\n",
  "    ad.uns[\"marker_\" + col] = markers[col].values\n"
 ]
},
{
 "cell_type": "code",
 "execution_count": 14,
 "metadata": {},
 "source": [
  "del ad.obsm['X_pca']\n",
  "del ad.varm['PCs']\n",
  "del ad.uns['rank_genes_groups']"
 ]
},
{
 "cell_type": "code",
 "execution_count": 15,
 "metadata": {},
 "source": [
  "ad.uns['about_title']=\"<set a title>\"\n",
  "ad.uns['about_short_title']=\"<set a short title>\"\n",
  "ad.uns['about_readme']=\"<add a text>\""
 ]
},