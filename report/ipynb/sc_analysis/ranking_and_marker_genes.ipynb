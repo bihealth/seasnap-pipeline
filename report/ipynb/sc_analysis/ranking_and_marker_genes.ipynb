{
   "cell_type": "markdown",
   "metadata": {},
   "source": [
    "---"
   ]
},
{
 "cell_type": "markdown",
 "metadata": {},
 "source": [
  "## Finding marker genes"
 ]
},
{
   "cell_type": "code",
   "execution_count": 11,
   "metadata": {},
   "outputs": [],
   "source": [
    "sc.tl.rank_genes_groups(ad,groupby='louvain')"
   ]
},
{
 "cell_type": "markdown",
 "metadata": {},
 "source": [
  "let's find marker genes for the clusters: clusters 0, 1, 5 and 8 are positive for Apoe, clusters 1 10 + 11 for Cd74, cluster 2 for Gas5, cluster 3 for Ccr2, cluster 6 for S100a8, cluster 7 for Gngt2 and Itga1, cluster 9 for Stmn1, cluster 12 for Nkg7, cluster 13 for Ly6c1"
 ]
},
{
 "cell_type": "code",
 "execution_count": 12,
 "metadata": {},
 "source": [
  "marker_genes = pd.DataFrame(ad.uns['rank_genes_groups']['names']).head(3).unstack().unique()\n",
  "ax = sc.pl.dotplot(ad, marker_genes, groupby='louvain')"
 ]
},
{
 "cell_type": "code",
 "execution_count": 13,
 "metadata": {},
 "source": [
  "markers = pd.DataFrame(\n",
  "    dict(\n",
  "        (k, pd.DataFrame(ad.uns[\"rank_genes_groups\"][k]).stack().astype(t))\n",
  "        \n",
  "        for k, t in [\n",
  "            (\"scores\", float),\n",
  "            (\"names\", str),\n",
  "            (\"logfoldchanges\", float),\n",
  "            (\"pvals_adj\", float),\n",
  "        ]\n",
  "    )\n",
  ")\n",
  "markers.columns = [\"score\", \"gene\", \"LFC\", \"padj\"]\n",
  "markers[\"cluster\"] = markers.index.get_level_values(1)\n",
  "markers = (\n",
  "    markers[markers[\"gene\"].isin(ad.var_names)]\n",
  "    .sort_values([\"cluster\", \"padj\"])\n",
  "    .groupby(\"cluster\")\n",
  "    .head(10)\n",
  ")\n",
  "for col in markers.columns:\n",
  "    ad.uns[\"marker_\" + col] = markers[col].values\n"
 ]
},
{
 "cell_type": "code",
 "execution_count": 14,
 "metadata": {},
 "source": [
  "del ad.obsm['X_pca']\n",
  "del ad.varm['PCs']\n",
  "del ad.uns['rank_genes_groups']"
 ]
},
{
 "cell_type": "code",
 "execution_count": 15,
 "metadata": {},
 "source": [
  "ad.uns['about_title']=\"2020_01_22 single cell mix 1\"\n",
  "ad.uns['about_short_title']=\"single_cell_mix_1\"\n",
  "ad.uns['about_readme']=\"\"\"\n",
  "## data is pool of \n",
  "- GFPpos_d6\n",
  "- GFPneg_Ly6Cpos\n",
  "- GFPneg_Ly6Cneg\n",
  "- GFPneg_Neutrophil\n",
  "- GFPneg_LMPP\n",
  "- GFPneg_MPP3\n",
  "- GFPneg_Cd11bpos\n",
  "- GFPneg_Cd45hi_Cd11bpos\n",
  "- GFPneg_Cd45lo_Cd11bpos\n",
  "\n",
  "## processing:\n",
  "\n",
  "- `CellRanger` v3.1.0\n",
  "- mapped against `GRCm38_eGFP_HSVTK` (i.e., GRCm38 with eGFP and HSVTK sequences added)\n",
  "\n",
  "## analysis\n",
  "\n",
  "- `scanpy` v1.4.4\n",
  "- removed cells with more than 25k UMIs or more than 10% mitochrondrial content\n",
  "- PCA, neighbor graph, tSNE, UMAP and louvain clustering using `scanpy`'s defaults\n",
  "\"\"\""
 ]
},