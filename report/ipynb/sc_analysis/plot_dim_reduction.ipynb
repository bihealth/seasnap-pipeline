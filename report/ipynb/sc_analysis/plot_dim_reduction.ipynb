{
   "cell_type": "markdown",
   "metadata": {},
   "source": [
    "---"
   ]
},
{
 "cell_type": "markdown",
 "metadata": {},
 "source": [
  "## Dimensionality reduction\n",
  "Compute a PCA, then a nearest-neighbor graph, and from that two embeddings (UMAP and tSNE) as well as a clustering."
 ]
},
{
 "cell_type": "code",
 "execution_count": 8,
 "metadata": {},
 "source": [
  "sc.tl.pca(ad)\n",
  "sc.pp.neighbors(ad)\n",
  "sc.tl.umap(ad)\n",
  "sc.tl.tsne(ad)\n",
  "sc.tl.louvain(ad, random_state=1)"
 ]
},
{
 "cell_type": "markdown",
 "metadata": {},
 "source": [
  "### UMAP"
 ]
},
{
 "cell_type": "code",
 "execution_count": 9,
 "metadata": {},
 "source": [
  "sc.pl.umap(ad,color='louvain',legend_loc='on data')\n",
  "sc.pl.umap(ad,color=['eGFP','HSVTK'])"
 ]
},
{
 "cell_type": "markdown",
 "metadata": {},
 "source": [
  "### t-SNE"
 ]
},
{
 "cell_type": "code",
 "execution_count": 10,
 "metadata": {},
 "source": [
  "sc.pl.tsne(ad,color='louvain',legend_loc='on data')\n",
  "sc.pl.tsne(ad,color=['eGFP','HSVTK'])"
 ]
},