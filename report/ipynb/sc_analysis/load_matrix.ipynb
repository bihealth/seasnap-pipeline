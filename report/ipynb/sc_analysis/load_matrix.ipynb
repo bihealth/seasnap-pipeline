{
   "cell_type": "code",
   "execution_count": 4,
   "metadata": {},
   "source": [
    "ad=sc.read_10x_h5(os.path.dirname('{{cellranger_count-done}}')+'/outdir/filtered_feature_bc_matrix.h5')\n",
    "ad.var_names_make_unique()\n",
    "ad.write_csvs(\"csv_out\")"
   ]
},